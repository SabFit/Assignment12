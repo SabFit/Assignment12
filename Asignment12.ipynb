{
 "cells": [
  {
   "cell_type": "markdown",
   "id": "4d84a94b-0968-44c1-be5c-e981a4375fcd",
   "metadata": {},
   "source": [
    "1. In what modes should the PdfFileReader() and PdfFileWriter() File objects will be opened?"
   ]
  },
  {
   "cell_type": "markdown",
   "id": "2ae966cb-dad8-4046-bb72-79bc4ba982c4",
   "metadata": {},
   "source": [
    "Ans .These files will be opened in binary mode., read binary (rb) for PdfFileREader() and write binary (wb) PdfFileWriter()"
   ]
  },
  {
   "cell_type": "markdown",
   "id": "088c4516-6766-40db-a5e6-87696633c2a2",
   "metadata": {},
   "source": [
    "2. From a PdfFileReader object, how do you get a Page object for page 5?"
   ]
  },
  {
   "cell_type": "markdown",
   "id": "861b1282-c13f-4d86-a8c7-2e88e7b396ba",
   "metadata": {},
   "source": [
    "Ans .Calling getPage(4) will return a Page object for page 5 since page 0 is the first page"
   ]
  },
  {
   "cell_type": "markdown",
   "id": "c7cf477d-4eef-4be2-8432-acb27cccb553",
   "metadata": {},
   "source": [
    "3. What PdfFileReader variable stores the number of pages in the PDF document?"
   ]
  },
  {
   "cell_type": "markdown",
   "id": "c1b59174-0672-4d0d-bd16-c07d8a6ae34a",
   "metadata": {},
   "source": [
    "Ans.The total number of pages in the document is stored in the numPages attribute of a PdfFileReader object ➊"
   ]
  },
  {
   "cell_type": "markdown",
   "id": "fcc8b829-33f0-4fcd-9408-33ed5c5069d1",
   "metadata": {},
   "source": [
    "4. If a PdfFileReader object’s PDF is encrypted with the password swordfish, what must you do\n",
    "before you can obtain Page objects from it?"
   ]
  },
  {
   "cell_type": "markdown",
   "id": "5d121b15-6930-4452-9de5-f83b11ed1fed",
   "metadata": {},
   "source": [
    "Ans.Before we obtain the page object, the pdf has to be decrypted by calling .decrypt('swordfish')"
   ]
  },
  {
   "cell_type": "markdown",
   "id": "e3da07c8-d53d-4fba-b796-03f0dc3c0fbb",
   "metadata": {},
   "source": [
    "5. What methods do you use to rotate a page?"
   ]
  },
  {
   "cell_type": "markdown",
   "id": "1af41731-ff24-4336-932b-adb02bd7f5e8",
   "metadata": {},
   "source": [
    "Ans .rotateClockwise() and rotateCounterClockwise() methods. The degrees to rotate is passed as an integer argument"
   ]
  },
  {
   "cell_type": "markdown",
   "id": "eab044ac-4713-446f-a859-bafc126bc8d9",
   "metadata": {},
   "source": [
    "6. What is the difference between a Run object and a Paragraph object?"
   ]
  },
  {
   "cell_type": "markdown",
   "id": "d79f74e9-6597-4169-9d8b-51df17dc694f",
   "metadata": {},
   "source": [
    "Ans Run Objects : Runs are contiguous groups of characters within a paragraph with the same style\n"
   ]
  },
  {
   "cell_type": "markdown",
   "id": "2577bf49-fed9-4741-9575-3ed2a64027b3",
   "metadata": {},
   "source": [
    "Paragraph Object : A document contains multiple paragraphs. A paragraph begins on a new line and contains multiple\n",
    "runs. The Document object contains a list of Paragraph objects for the paragraphs in the document. (A new paragraph begins whenever the user presses ENTER or RETURN while typing in a Word document.)\n"
   ]
  },
  {
   "cell_type": "markdown",
   "id": "c5d70498-62f6-40c5-917e-13820e026910",
   "metadata": {},
   "source": [
    "7. How do you obtain a list of Paragraph objects for a Document object that’s stored in a variable\n",
    "named doc?"
   ]
  },
  {
   "cell_type": "code",
   "execution_count": 12,
   "id": "831cc508-9244-4d9a-93f3-031e641fe15b",
   "metadata": {},
   "outputs": [
    {
     "name": "stdout",
     "output_type": "stream",
     "text": [
      "Collecting python-docx\n",
      "  Downloading python-docx-0.8.11.tar.gz (5.6 MB)\n",
      "\u001b[2K     \u001b[90m━━━━━━━━━━━━━━━━━━━━━━━━━━━━━━━━━━━━━━━━\u001b[0m \u001b[32m5.6/5.6 MB\u001b[0m \u001b[31m76.0 MB/s\u001b[0m eta \u001b[36m0:00:00\u001b[0m:00:01\u001b[0m00:01\u001b[0m\n",
      "\u001b[?25h  Preparing metadata (setup.py) ... \u001b[?25ldone\n",
      "\u001b[?25hCollecting lxml>=2.3.2\n",
      "  Downloading lxml-4.9.2-cp310-cp310-manylinux_2_17_x86_64.manylinux2014_x86_64.manylinux_2_24_x86_64.whl (7.1 MB)\n",
      "\u001b[2K     \u001b[90m━━━━━━━━━━━━━━━━━━━━━━━━━━━━━━━━━━━━━━━━\u001b[0m \u001b[32m7.1/7.1 MB\u001b[0m \u001b[31m82.0 MB/s\u001b[0m eta \u001b[36m0:00:00\u001b[0m:00:01\u001b[0m00:01\u001b[0m\n",
      "\u001b[?25hBuilding wheels for collected packages: python-docx\n",
      "  Building wheel for python-docx (setup.py) ... \u001b[?25ldone\n",
      "\u001b[?25h  Created wheel for python-docx: filename=python_docx-0.8.11-py3-none-any.whl size=184489 sha256=107a51b680244ddaccf7211d17162740bebbf7328633597e753f61c13d744810\n",
      "  Stored in directory: /home/jovyan/.cache/pip/wheels/65/e1/9b/0c38fe6cfe02a9fe31cb6b4efd90985f17354d7f77872f2def\n",
      "Successfully built python-docx\n",
      "Installing collected packages: lxml, python-docx\n",
      "Successfully installed lxml-4.9.2 python-docx-0.8.11\n"
     ]
    }
   ],
   "source": [
    "!pip install python-docx"
   ]
  },
  {
   "cell_type": "code",
   "execution_count": 21,
   "id": "22b27bc1-bf58-4229-a993-b730600f9afb",
   "metadata": {},
   "outputs": [
    {
     "data": {
      "text/plain": [
       "[<docx.text.paragraph.Paragraph at 0x7fa8e71f8df0>]"
      ]
     },
     "execution_count": 21,
     "metadata": {},
     "output_type": "execute_result"
    }
   ],
   "source": [
    "doc.paragraphs\n"
   ]
  },
  {
   "cell_type": "markdown",
   "id": "792bae5d-09f5-4a3f-9209-874a56d86298",
   "metadata": {},
   "source": [
    "8. What type of object has bold, underline, italic, strike, and outline variables?"
   ]
  },
  {
   "cell_type": "markdown",
   "id": "f098aa3f-512f-4480-9da4-574ad919e89a",
   "metadata": {},
   "source": [
    "Ans .A Run object has bold, underline,italic,strike and outline variables"
   ]
  },
  {
   "cell_type": "markdown",
   "id": "f5573efe-0fa5-4f57-ae7b-7c8fd3ad07da",
   "metadata": {},
   "source": [
    "9. What is the difference between False, True, and None for the bold variable?"
   ]
  },
  {
   "cell_type": "markdown",
   "id": "db07aeff-8b22-440d-a787-760d282b56f8",
   "metadata": {},
   "source": [
    "ans. True always makes the Run object bolded and False makes it always not bolded, no matter what the style’s bold setting is. None will make the Run object just use the style’s bold setting"
   ]
  },
  {
   "cell_type": "markdown",
   "id": "544cf357-2a6a-4e5d-bafa-a80e8b9a3233",
   "metadata": {},
   "source": [
    "10. How do you create a Document object for a new Word document? "
   ]
  },
  {
   "cell_type": "markdown",
   "id": "57467628-e576-4d8c-91a4-3a5ce22cee1a",
   "metadata": {},
   "source": [
    "Ans. By Calling the docx.Document() function."
   ]
  },
  {
   "cell_type": "markdown",
   "id": "ec854f65-3b57-48ba-bf84-5a2830f77d3f",
   "metadata": {},
   "source": [
    "11. How do you add a paragraph with the text &#39;Hello, there!&#39; to a Document object stored in a\n",
    "variable named doc?"
   ]
  },
  {
   "cell_type": "code",
   "execution_count": 19,
   "id": "b513e54b-87a6-45e8-9cfc-44b3c1a518db",
   "metadata": {},
   "outputs": [],
   "source": [
    "import docx\n",
    "doc=docx.Document()\n",
    "doc.add_paragraph('Hello there!')\n",
    "doc.save('hellothere.docx')"
   ]
  },
  {
   "cell_type": "markdown",
   "id": "1eb984e9-1a03-4175-a070-5c37002df1bd",
   "metadata": {},
   "source": [
    "12. What integers represent the levels of headings available in Word documents?"
   ]
  },
  {
   "cell_type": "markdown",
   "id": "65caa458-44b3-4e12-bdc5-cab99ffd02a3",
   "metadata": {},
   "source": [
    "The integer 0 makes the heading the Title style, which is used for the top of the document. Integers 1 to 4 are for various heading levels, with 1 being the main heading and 4 the lowest subheading."
   ]
  },
  {
   "cell_type": "code",
   "execution_count": null,
   "id": "6f322de5-9585-48a8-ad2a-48a3fa5c9457",
   "metadata": {},
   "outputs": [],
   "source": []
  }
 ],
 "metadata": {
  "kernelspec": {
   "display_name": "Python 3 (ipykernel)",
   "language": "python",
   "name": "python3"
  },
  "language_info": {
   "codemirror_mode": {
    "name": "ipython",
    "version": 3
   },
   "file_extension": ".py",
   "mimetype": "text/x-python",
   "name": "python",
   "nbconvert_exporter": "python",
   "pygments_lexer": "ipython3",
   "version": "3.10.6"
  }
 },
 "nbformat": 4,
 "nbformat_minor": 5
}
